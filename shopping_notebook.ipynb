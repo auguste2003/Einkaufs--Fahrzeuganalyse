{
 "cells": [
  {
   "cell_type": "code",
   "execution_count": 4,
   "id": "f8c6af57-2b7f-40d1-ba04-3d7029970f5c",
   "metadata": {},
   "outputs": [
    {
     "name": "stdout",
     "output_type": "stream",
     "text": [
      "             Item 1               Item 2          Item 3  \\\n",
      "0      citrus fruit  semi-finished bread       margarine   \n",
      "1    tropical fruit               yogurt          coffee   \n",
      "2        whole milk                  NaN             NaN   \n",
      "3         pip fruit               yogurt    cream cheese   \n",
      "4  other vegetables           whole milk  condensed milk   \n",
      "\n",
      "                     Item 4 Item 5 Item 6 Item 7 Item 8 Item 9 Item 10  ...  \\\n",
      "0               ready soups    NaN    NaN    NaN    NaN    NaN     NaN  ...   \n",
      "1                       NaN    NaN    NaN    NaN    NaN    NaN     NaN  ...   \n",
      "2                       NaN    NaN    NaN    NaN    NaN    NaN     NaN  ...   \n",
      "3              meat spreads    NaN    NaN    NaN    NaN    NaN     NaN  ...   \n",
      "4  long life bakery product    NaN    NaN    NaN    NaN    NaN     NaN  ...   \n",
      "\n",
      "  Item 23 Item 24 Item 25 Item 26 Item 27 Item 28 Item 29 Item 30 Item 31  \\\n",
      "0     NaN     NaN     NaN     NaN     NaN     NaN     NaN     NaN     NaN   \n",
      "1     NaN     NaN     NaN     NaN     NaN     NaN     NaN     NaN     NaN   \n",
      "2     NaN     NaN     NaN     NaN     NaN     NaN     NaN     NaN     NaN   \n",
      "3     NaN     NaN     NaN     NaN     NaN     NaN     NaN     NaN     NaN   \n",
      "4     NaN     NaN     NaN     NaN     NaN     NaN     NaN     NaN     NaN   \n",
      "\n",
      "  Item 32  \n",
      "0     NaN  \n",
      "1     NaN  \n",
      "2     NaN  \n",
      "3     NaN  \n",
      "4     NaN  \n",
      "\n",
      "[5 rows x 32 columns]\n",
      "<class 'pandas.core.frame.DataFrame'>\n",
      "RangeIndex: 9835 entries, 0 to 9834\n",
      "Data columns (total 32 columns):\n",
      " #   Column   Non-Null Count  Dtype \n",
      "---  ------   --------------  ----- \n",
      " 0   Item 1   9835 non-null   object\n",
      " 1   Item 2   7676 non-null   object\n",
      " 2   Item 3   6033 non-null   object\n",
      " 3   Item 4   4734 non-null   object\n",
      " 4   Item 5   3729 non-null   object\n",
      " 5   Item 6   2874 non-null   object\n",
      " 6   Item 7   2229 non-null   object\n",
      " 7   Item 8   1684 non-null   object\n",
      " 8   Item 9   1246 non-null   object\n",
      " 9   Item 10  896 non-null    object\n",
      " 10  Item 11  650 non-null    object\n",
      " 11  Item 12  468 non-null    object\n",
      " 12  Item 13  351 non-null    object\n",
      " 13  Item 14  273 non-null    object\n",
      " 14  Item 15  196 non-null    object\n",
      " 15  Item 16  141 non-null    object\n",
      " 16  Item 17  95 non-null     object\n",
      " 17  Item 18  66 non-null     object\n",
      " 18  Item 19  52 non-null     object\n",
      " 19  Item 20  38 non-null     object\n",
      " 20  Item 21  29 non-null     object\n",
      " 21  Item 22  18 non-null     object\n",
      " 22  Item 23  14 non-null     object\n",
      " 23  Item 24  8 non-null      object\n",
      " 24  Item 25  7 non-null      object\n",
      " 25  Item 26  7 non-null      object\n",
      " 26  Item 27  6 non-null      object\n",
      " 27  Item 28  5 non-null      object\n",
      " 28  Item 29  4 non-null      object\n",
      " 29  Item 30  1 non-null      object\n",
      " 30  Item 31  1 non-null      object\n",
      " 31  Item 32  1 non-null      object\n",
      "dtypes: object(32)\n",
      "memory usage: 2.4+ MB\n",
      "None\n"
     ]
    }
   ],
   "source": [
    "import pandas as pd\n",
    "from mlxtend.preprocessing import TransactionEncoder\n",
    "from mlxtend.frequent_patterns import apriori\n",
    "\n",
    "# 1. Laden des Datensatzes\n",
    "data = pd.read_csv('shopping.csv')\n",
    "\n",
    "# 2. Daten erkunden\n",
    "print(data.head())  # Anzeigen der ersten fünf Zeilen des Datensatzes\n",
    "print(data.info())  # Überblick über den Datensatz\n"
   ]
  },
  {
   "cell_type": "code",
   "execution_count": null,
   "id": "62668dab-d636-4198-924f-53a0cd44f86c",
   "metadata": {},
   "outputs": [],
   "source": []
  },
  {
   "cell_type": "code",
   "execution_count": 7,
   "id": "2439286f-1d7d-49d0-b1bf-f1e8aaa978c6",
   "metadata": {},
   "outputs": [
    {
     "name": "stdout",
     "output_type": "stream",
     "text": [
      "Warenkorb 1: ['citrus fruit', 'semi-finished bread', 'margarine', 'ready soups']\n",
      "Warenkorb 2: ['tropical fruit', 'yogurt', 'coffee']\n",
      "Warenkorb 3: ['whole milk']\n",
      "Warenkorb 4: ['pip fruit', 'yogurt', 'cream cheese', 'meat spreads']\n",
      "Warenkorb 5: ['other vegetables', 'whole milk', 'condensed milk', 'long life bakery product']\n"
     ]
    }
   ],
   "source": [
    "  import pandas as pd\n",
    "\n",
    "# Laden der CSV-Datei\n",
    "df = pd.read_csv('shopping.csv')\n",
    "\n",
    "# Entfernen der NaN-Werte und Umwandeln in eine Liste von Listen\n",
    "baskets = df.apply(lambda x: [item for item in x if pd.notna(item)], axis=1).tolist()\n",
    "\n",
    "# Beispielausgabe der ersten paar Warenkörbe\n",
    "for i, basket in enumerate(baskets[:5]):\n",
    "    print(f\"Warenkorb {i + 1}: {basket}\")\n",
    "\n",
    "\n"
   ]
  },
  {
   "cell_type": "code",
   "execution_count": 10,
   "id": "8a432807-640c-47a8-aef0-9c5c7ce9ddfe",
   "metadata": {},
   "outputs": [
    {
     "name": "stdout",
     "output_type": "stream",
     "text": [
      "Häufigkeit der Produkte relativ zu den Transaktionen:\n",
      "whole milk               0.255516\n",
      "other vegetables         0.193493\n",
      "rolls/buns               0.183935\n",
      "soda                     0.174377\n",
      "yogurt                   0.139502\n",
      "                           ...   \n",
      "bags                     0.000407\n",
      "kitchen utensil          0.000407\n",
      "preservation products    0.000203\n",
      "baby food                0.000102\n",
      "sound storage medium     0.000102\n",
      "Name: count, Length: 169, dtype: float64\n"
     ]
    }
   ],
   "source": [
    "# 1 .Wie oft wird ein Produkt relativ zur Anzahl aller Transaktionen gekauft \n",
    "# Flatten der Liste von Listen, um alle Produkte zu erhalten\n",
    "all_items = [item for sublist in baskets for item in sublist]\n",
    "\n",
    "# Zählen der Käufe pro Produkt\n",
    "item_counts = pd.Series(all_items).value_counts()\n",
    "\n",
    "# Berechnung der relativen Häufigkeit\n",
    "total_transactions = len(baskets)\n",
    "relative_frequency = item_counts / total_transactions\n",
    "# Ausgabe der Ergebnisse\n",
    "print(\"Häufigkeit der Produkte relativ zu den Transaktionen:\")\n",
    "print(relative_frequency)\n",
    "\n"
   ]
  },
  {
   "cell_type": "code",
   "execution_count": 16,
   "id": "64e47a2a-3a64-4a39-a342-0cadb1a6e260",
   "metadata": {},
   "outputs": [
    {
     "name": "stderr",
     "output_type": "stream",
     "text": [
      "/home/auguste/.local/lib/python3.10/site-packages/mlxtend/frequent_patterns/fpcommon.py:109: DeprecationWarning: DataFrames with non-bool types result in worse computationalperformance and their support might be discontinued in the future.Please use a DataFrame with bool type\n",
      "  warnings.warn(\n"
     ]
    },
    {
     "name": "stdout",
     "output_type": "stream",
     "text": [
      "Häufige Produktkombinationen:\n",
      "      support                                       itemsets\n",
      "88   0.019725                       (beef, other vegetables)\n",
      "89   0.013625                             (beef, rolls/buns)\n",
      "90   0.017387                        (beef, root vegetables)\n",
      "91   0.021251                             (beef, whole milk)\n",
      "92   0.011693                                 (beef, yogurt)\n",
      "..        ...                                            ...\n",
      "328  0.011998  (tropical fruit, root vegetables, whole milk)\n",
      "329  0.014540          (yogurt, root vegetables, whole milk)\n",
      "330  0.010473                     (yogurt, soda, whole milk)\n",
      "331  0.015150           (tropical fruit, yogurt, whole milk)\n",
      "332  0.010880       (yogurt, whole milk, whipped/sour cream)\n",
      "\n",
      "[245 rows x 2 columns]\n",
      "Anzahl der Warenkörbe: 9835\n"
     ]
    }
   ],
   "source": [
    "# Welche Kombinationen von Produkten werden am häufigsten zusammen gekauft (filtern Sie Warenkörbe der Größe eins heraus)?\n",
    "\n",
    "# mlxtend-Bibliothek für die Häufigkeit \n",
    "from mlxtend.frequent_patterns import apriori\n",
    "\n",
    "# One-Hot-Encoding der Warenkörbe  Jede Spalte entspricht ein Produkt und jede Zeile ein Warenkorb \n",
    "basket_encoded = pd.get_dummies(pd.DataFrame(baskets).stack()).groupby(level=0).sum()\n",
    "\n",
    "# # Apriori-Analyse zur Identifikation häufiger Kombinationen\n",
    "frequent_itemsets = apriori(basket_encoded, min_support=0.01, use_colnames=True)\n",
    "\n",
    "# Filtern der häufigen Itemsets mit mehr als einem Produkt\n",
    "frequent_itemsets = frequent_itemsets[frequent_itemsets['itemsets'].apply(lambda x: len(x) > 1)]\n",
    "\n",
    "# Ausgabe der häufigen Kombinationen von Produkten\n",
    "print(\"Häufige Produktkombinationen:\")\n",
    "print(frequent_itemsets)\n",
    "\n",
    "print(f\"Anzahl der Warenkörbe: {len(baskets)}\")\n",
    "\n"
   ]
  },
  {
   "cell_type": "code",
   "execution_count": null,
   "id": "389878fb-41b3-4671-8319-d0f071b7a334",
   "metadata": {},
   "outputs": [],
   "source": []
  },
  {
   "cell_type": "code",
   "execution_count": null,
   "id": "30aa3775-b10a-4ada-b110-fc7b370a7a4c",
   "metadata": {},
   "outputs": [],
   "source": []
  }
 ],
 "metadata": {
  "kernelspec": {
   "display_name": "Python 3 (ipykernel)",
   "language": "python",
   "name": "python3"
  },
  "language_info": {
   "codemirror_mode": {
    "name": "ipython",
    "version": 3
   },
   "file_extension": ".py",
   "mimetype": "text/x-python",
   "name": "python",
   "nbconvert_exporter": "python",
   "pygments_lexer": "ipython3",
   "version": "3.10.12"
  }
 },
 "nbformat": 4,
 "nbformat_minor": 5
}
